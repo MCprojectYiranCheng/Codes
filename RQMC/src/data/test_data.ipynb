{
 "cells": [
  {
   "cell_type": "code",
   "execution_count": 1,
   "metadata": {},
   "outputs": [],
   "source": [
    "import pandas as pd\n",
    "import numpy as np"
   ]
  },
  {
   "cell_type": "code",
   "execution_count": 2,
   "metadata": {},
   "outputs": [],
   "source": [
    "df = pd.read_csv(\"example.csv\")"
   ]
  },
  {
   "cell_type": "code",
   "execution_count": 3,
   "metadata": {},
   "outputs": [
    {
     "data": {
      "text/html": [
       "<div>\n",
       "<style scoped>\n",
       "    .dataframe tbody tr th:only-of-type {\n",
       "        vertical-align: middle;\n",
       "    }\n",
       "\n",
       "    .dataframe tbody tr th {\n",
       "        vertical-align: top;\n",
       "    }\n",
       "\n",
       "    .dataframe thead th {\n",
       "        text-align: right;\n",
       "    }\n",
       "</style>\n",
       "<table border=\"1\" class=\"dataframe\">\n",
       "  <thead>\n",
       "    <tr style=\"text-align: right;\">\n",
       "      <th></th>\n",
       "      <th>x0</th>\n",
       "      <th>x1</th>\n",
       "      <th>x2</th>\n",
       "      <th>x3</th>\n",
       "      <th>x4</th>\n",
       "      <th>x5</th>\n",
       "      <th>x6</th>\n",
       "      <th>x7</th>\n",
       "      <th>x8</th>\n",
       "      <th>x9</th>\n",
       "      <th>x10</th>\n",
       "      <th>x11</th>\n",
       "      <th>x12</th>\n",
       "      <th>x13</th>\n",
       "      <th>x14</th>\n",
       "      <th>x15</th>\n",
       "      <th>x16</th>\n",
       "      <th>x17</th>\n",
       "    </tr>\n",
       "  </thead>\n",
       "  <tbody>\n",
       "    <tr>\n",
       "      <td>0</td>\n",
       "      <td>-1.334670</td>\n",
       "      <td>-1.165850</td>\n",
       "      <td>-0.250717</td>\n",
       "      <td>-0.769360</td>\n",
       "      <td>0.263828</td>\n",
       "      <td>1.323470</td>\n",
       "      <td>-0.118972</td>\n",
       "      <td>2.006340</td>\n",
       "      <td>-0.552851</td>\n",
       "      <td>-1.934780</td>\n",
       "      <td>-1.441830</td>\n",
       "      <td>-0.390905</td>\n",
       "      <td>0.339010</td>\n",
       "      <td>0.779463</td>\n",
       "      <td>0.523389</td>\n",
       "      <td>-0.926347</td>\n",
       "      <td>0.601532</td>\n",
       "      <td>0.127952</td>\n",
       "    </tr>\n",
       "    <tr>\n",
       "      <td>1</td>\n",
       "      <td>0.277254</td>\n",
       "      <td>-0.094723</td>\n",
       "      <td>0.223491</td>\n",
       "      <td>-0.339213</td>\n",
       "      <td>-0.336066</td>\n",
       "      <td>1.140500</td>\n",
       "      <td>-0.691107</td>\n",
       "      <td>1.681670</td>\n",
       "      <td>-0.114960</td>\n",
       "      <td>-1.861880</td>\n",
       "      <td>-1.296760</td>\n",
       "      <td>-0.601906</td>\n",
       "      <td>0.211075</td>\n",
       "      <td>0.780468</td>\n",
       "      <td>0.608484</td>\n",
       "      <td>-0.829593</td>\n",
       "      <td>0.552935</td>\n",
       "      <td>0.178701</td>\n",
       "    </tr>\n",
       "    <tr>\n",
       "      <td>2</td>\n",
       "      <td>-0.973108</td>\n",
       "      <td>0.784149</td>\n",
       "      <td>2.047570</td>\n",
       "      <td>-0.186071</td>\n",
       "      <td>-0.721791</td>\n",
       "      <td>0.744552</td>\n",
       "      <td>-1.098190</td>\n",
       "      <td>1.250560</td>\n",
       "      <td>0.269040</td>\n",
       "      <td>-1.721870</td>\n",
       "      <td>-1.125890</td>\n",
       "      <td>-0.777533</td>\n",
       "      <td>0.090215</td>\n",
       "      <td>0.760936</td>\n",
       "      <td>0.678379</td>\n",
       "      <td>-0.726163</td>\n",
       "      <td>0.499372</td>\n",
       "      <td>0.220371</td>\n",
       "    </tr>\n",
       "    <tr>\n",
       "      <td>3</td>\n",
       "      <td>-0.093139</td>\n",
       "      <td>-0.597327</td>\n",
       "      <td>1.043010</td>\n",
       "      <td>1.089020</td>\n",
       "      <td>-0.842247</td>\n",
       "      <td>0.276868</td>\n",
       "      <td>-1.330120</td>\n",
       "      <td>0.760666</td>\n",
       "      <td>0.593969</td>\n",
       "      <td>-1.523890</td>\n",
       "      <td>-0.936075</td>\n",
       "      <td>-0.915343</td>\n",
       "      <td>-0.020324</td>\n",
       "      <td>0.722753</td>\n",
       "      <td>0.732675</td>\n",
       "      <td>-0.618196</td>\n",
       "      <td>0.441983</td>\n",
       "      <td>0.252240</td>\n",
       "    </tr>\n",
       "    <tr>\n",
       "      <td>4</td>\n",
       "      <td>1.383230</td>\n",
       "      <td>0.534782</td>\n",
       "      <td>-0.143449</td>\n",
       "      <td>1.065920</td>\n",
       "      <td>-0.720295</td>\n",
       "      <td>-0.120475</td>\n",
       "      <td>-1.388900</td>\n",
       "      <td>0.265373</td>\n",
       "      <td>0.854088</td>\n",
       "      <td>-1.280250</td>\n",
       "      <td>-0.734364</td>\n",
       "      <td>-1.014040</td>\n",
       "      <td>-0.117627</td>\n",
       "      <td>0.668265</td>\n",
       "      <td>0.771243</td>\n",
       "      <td>-0.507838</td>\n",
       "      <td>0.381962</td>\n",
       "      <td>0.273609</td>\n",
       "    </tr>\n",
       "    <tr>\n",
       "      <td>...</td>\n",
       "      <td>...</td>\n",
       "      <td>...</td>\n",
       "      <td>...</td>\n",
       "      <td>...</td>\n",
       "      <td>...</td>\n",
       "      <td>...</td>\n",
       "      <td>...</td>\n",
       "      <td>...</td>\n",
       "      <td>...</td>\n",
       "      <td>...</td>\n",
       "      <td>...</td>\n",
       "      <td>...</td>\n",
       "      <td>...</td>\n",
       "      <td>...</td>\n",
       "      <td>...</td>\n",
       "      <td>...</td>\n",
       "      <td>...</td>\n",
       "      <td>...</td>\n",
       "    </tr>\n",
       "    <tr>\n",
       "      <td>9995</td>\n",
       "      <td>-0.458287</td>\n",
       "      <td>-0.054707</td>\n",
       "      <td>-0.380631</td>\n",
       "      <td>-0.152296</td>\n",
       "      <td>1.949970</td>\n",
       "      <td>0.979415</td>\n",
       "      <td>-1.230730</td>\n",
       "      <td>1.711010</td>\n",
       "      <td>-0.605823</td>\n",
       "      <td>0.494467</td>\n",
       "      <td>-0.292455</td>\n",
       "      <td>-0.681045</td>\n",
       "      <td>-0.774079</td>\n",
       "      <td>-0.887243</td>\n",
       "      <td>-1.519180</td>\n",
       "      <td>0.748960</td>\n",
       "      <td>1.329080</td>\n",
       "      <td>-1.006500</td>\n",
       "    </tr>\n",
       "    <tr>\n",
       "      <td>9996</td>\n",
       "      <td>0.812199</td>\n",
       "      <td>-1.085400</td>\n",
       "      <td>-0.594671</td>\n",
       "      <td>-1.974070</td>\n",
       "      <td>1.016800</td>\n",
       "      <td>1.535730</td>\n",
       "      <td>-1.542820</td>\n",
       "      <td>1.093390</td>\n",
       "      <td>-0.629100</td>\n",
       "      <td>0.317881</td>\n",
       "      <td>-0.159509</td>\n",
       "      <td>-0.663892</td>\n",
       "      <td>-0.614385</td>\n",
       "      <td>-0.955860</td>\n",
       "      <td>-1.548740</td>\n",
       "      <td>0.546950</td>\n",
       "      <td>1.391360</td>\n",
       "      <td>-0.843791</td>\n",
       "    </tr>\n",
       "    <tr>\n",
       "      <td>9997</td>\n",
       "      <td>0.768520</td>\n",
       "      <td>1.793730</td>\n",
       "      <td>0.859313</td>\n",
       "      <td>-1.242670</td>\n",
       "      <td>0.162995</td>\n",
       "      <td>1.600170</td>\n",
       "      <td>-1.654350</td>\n",
       "      <td>0.486201</td>\n",
       "      <td>-0.603604</td>\n",
       "      <td>0.154905</td>\n",
       "      <td>-0.040981</td>\n",
       "      <td>-0.620225</td>\n",
       "      <td>-0.451859</td>\n",
       "      <td>-0.998014</td>\n",
       "      <td>-1.555050</td>\n",
       "      <td>0.349266</td>\n",
       "      <td>1.436030</td>\n",
       "      <td>-0.679827</td>\n",
       "    </tr>\n",
       "    <tr>\n",
       "      <td>9998</td>\n",
       "      <td>-0.466936</td>\n",
       "      <td>0.804190</td>\n",
       "      <td>1.141970</td>\n",
       "      <td>-0.077997</td>\n",
       "      <td>-0.522952</td>\n",
       "      <td>1.302450</td>\n",
       "      <td>-1.582970</td>\n",
       "      <td>-0.071042</td>\n",
       "      <td>-0.533943</td>\n",
       "      <td>0.018456</td>\n",
       "      <td>0.057672</td>\n",
       "      <td>-0.553408</td>\n",
       "      <td>-0.290593</td>\n",
       "      <td>-1.014290</td>\n",
       "      <td>-1.539190</td>\n",
       "      <td>0.158140</td>\n",
       "      <td>1.463400</td>\n",
       "      <td>-0.516248</td>\n",
       "    </tr>\n",
       "    <tr>\n",
       "      <td>9999</td>\n",
       "      <td>-0.384002</td>\n",
       "      <td>-0.668899</td>\n",
       "      <td>0.770806</td>\n",
       "      <td>0.841815</td>\n",
       "      <td>-0.942798</td>\n",
       "      <td>0.803278</td>\n",
       "      <td>-1.359490</td>\n",
       "      <td>-0.535985</td>\n",
       "      <td>-0.425936</td>\n",
       "      <td>-0.078436</td>\n",
       "      <td>0.131191</td>\n",
       "      <td>-0.467377</td>\n",
       "      <td>-0.134479</td>\n",
       "      <td>-1.005880</td>\n",
       "      <td>-1.502460</td>\n",
       "      <td>-0.024293</td>\n",
       "      <td>1.473880</td>\n",
       "      <td>-0.354661</td>\n",
       "    </tr>\n",
       "  </tbody>\n",
       "</table>\n",
       "<p>10000 rows × 18 columns</p>\n",
       "</div>"
      ],
      "text/plain": [
       "            x0        x1        x2        x3        x4        x5        x6  \\\n",
       "0    -1.334670 -1.165850 -0.250717 -0.769360  0.263828  1.323470 -0.118972   \n",
       "1     0.277254 -0.094723  0.223491 -0.339213 -0.336066  1.140500 -0.691107   \n",
       "2    -0.973108  0.784149  2.047570 -0.186071 -0.721791  0.744552 -1.098190   \n",
       "3    -0.093139 -0.597327  1.043010  1.089020 -0.842247  0.276868 -1.330120   \n",
       "4     1.383230  0.534782 -0.143449  1.065920 -0.720295 -0.120475 -1.388900   \n",
       "...        ...       ...       ...       ...       ...       ...       ...   \n",
       "9995 -0.458287 -0.054707 -0.380631 -0.152296  1.949970  0.979415 -1.230730   \n",
       "9996  0.812199 -1.085400 -0.594671 -1.974070  1.016800  1.535730 -1.542820   \n",
       "9997  0.768520  1.793730  0.859313 -1.242670  0.162995  1.600170 -1.654350   \n",
       "9998 -0.466936  0.804190  1.141970 -0.077997 -0.522952  1.302450 -1.582970   \n",
       "9999 -0.384002 -0.668899  0.770806  0.841815 -0.942798  0.803278 -1.359490   \n",
       "\n",
       "            x7        x8        x9       x10       x11       x12       x13  \\\n",
       "0     2.006340 -0.552851 -1.934780 -1.441830 -0.390905  0.339010  0.779463   \n",
       "1     1.681670 -0.114960 -1.861880 -1.296760 -0.601906  0.211075  0.780468   \n",
       "2     1.250560  0.269040 -1.721870 -1.125890 -0.777533  0.090215  0.760936   \n",
       "3     0.760666  0.593969 -1.523890 -0.936075 -0.915343 -0.020324  0.722753   \n",
       "4     0.265373  0.854088 -1.280250 -0.734364 -1.014040 -0.117627  0.668265   \n",
       "...        ...       ...       ...       ...       ...       ...       ...   \n",
       "9995  1.711010 -0.605823  0.494467 -0.292455 -0.681045 -0.774079 -0.887243   \n",
       "9996  1.093390 -0.629100  0.317881 -0.159509 -0.663892 -0.614385 -0.955860   \n",
       "9997  0.486201 -0.603604  0.154905 -0.040981 -0.620225 -0.451859 -0.998014   \n",
       "9998 -0.071042 -0.533943  0.018456  0.057672 -0.553408 -0.290593 -1.014290   \n",
       "9999 -0.535985 -0.425936 -0.078436  0.131191 -0.467377 -0.134479 -1.005880   \n",
       "\n",
       "           x14       x15       x16       x17  \n",
       "0     0.523389 -0.926347  0.601532  0.127952  \n",
       "1     0.608484 -0.829593  0.552935  0.178701  \n",
       "2     0.678379 -0.726163  0.499372  0.220371  \n",
       "3     0.732675 -0.618196  0.441983  0.252240  \n",
       "4     0.771243 -0.507838  0.381962  0.273609  \n",
       "...        ...       ...       ...       ...  \n",
       "9995 -1.519180  0.748960  1.329080 -1.006500  \n",
       "9996 -1.548740  0.546950  1.391360 -0.843791  \n",
       "9997 -1.555050  0.349266  1.436030 -0.679827  \n",
       "9998 -1.539190  0.158140  1.463400 -0.516248  \n",
       "9999 -1.502460 -0.024293  1.473880 -0.354661  \n",
       "\n",
       "[10000 rows x 18 columns]"
      ]
     },
     "execution_count": 3,
     "metadata": {},
     "output_type": "execute_result"
    }
   ],
   "source": [
    "df"
   ]
  },
  {
   "cell_type": "code",
   "execution_count": 4,
   "metadata": {},
   "outputs": [
    {
     "data": {
      "text/plain": [
       "Index(['x0', 'x1', 'x2', 'x3', 'x4', 'x5', 'x6', 'x7', 'x8', 'x9', 'x10',\n",
       "       'x11', 'x12', 'x13', 'x14', 'x15', 'x16', 'x17'],\n",
       "      dtype='object')"
      ]
     },
     "execution_count": 4,
     "metadata": {},
     "output_type": "execute_result"
    }
   ],
   "source": [
    "df.columns"
   ]
  },
  {
   "cell_type": "code",
   "execution_count": 6,
   "metadata": {},
   "outputs": [
    {
     "data": {
      "image/png": "[encoded data removed]",
      "text/plain": [
       "<Figure size 432x288 with 1 Axes>"
      ]
     },
     "metadata": {
      "needs_background": "light"
     },
     "output_type": "display_data"
    }
   ],
   "source": [
    "df[\"x8\"].hist(bins=50);"
   ]
  },
  {
   "cell_type": "code",
   "execution_count": 11,
   "metadata": {},
   "outputs": [
    {
     "data": {
      "text/plain": [
       "<matplotlib.axes._subplots.AxesSubplot at 0x114059450>"
      ]
     },
     "execution_count": 11,
     "metadata": {},
     "output_type": "execute_result"
    },
    {
     "data": {
      "image/png": "[encoded data removed]",
      "text/plain": [
       "<Figure size 432x288 with 1 Axes>"
      ]
     },
     "metadata": {
      "needs_background": "light"
     },
     "output_type": "display_data"
    }
   ],
   "source": [
    "(df[[\"x14\"]].cumsum()).divide((1+np.arange(len(df))),axis=0).iloc[:1000].plot(grid=True)"
   ]
  },
  {
   "cell_type": "code",
   "execution_count": 27,
   "metadata": {},
   "outputs": [],
   "source": [
    "df2 = pd.read_csv(\"call_45.csv\")"
   ]
  },
  {
   "cell_type": "code",
   "execution_count": 28,
   "metadata": {},
   "outputs": [],
   "source": [
    "df2[\"lb\"] = df2.estimator - df2.half_CI\n",
    "df2[\"ub\"] = df2.estimator + df2.half_CI"
   ]
  },
  {
   "cell_type": "code",
   "execution_count": 31,
   "metadata": {},
   "outputs": [
    {
     "data": {
      "text/plain": [
       "<matplotlib.axes._subplots.AxesSubplot at 0x12361b450>"
      ]
     },
     "execution_count": 31,
     "metadata": {},
     "output_type": "execute_result"
    },
    {
     "data": {
      "image/png": "[encoded data removed]",
      "text/plain": [
       "<Figure size 432x288 with 1 Axes>"
      ]
     },
     "metadata": {
      "needs_background": "light"
     },
     "output_type": "display_data"
    }
   ],
   "source": [
    "df2.iloc[100:,[0,2,3]].plot(grid=True)"
   ]
  },
  {
   "cell_type": "code",
   "execution_count": null,
   "metadata": {},
   "outputs": [],
   "source": []
  }
 ],
 "metadata": {
  "kernelspec": {
   "display_name": "Python 3",
   "language": "python",
   "name": "python3"
  },
  "language_info": {
   "codemirror_mode": {
    "name": "ipython",
    "version": 3
   },
   "file_extension": ".py",
   "mimetype": "text/x-python",
   "name": "python",
   "nbconvert_exporter": "python",
   "pygments_lexer": "ipython3",
   "version": "3.7.4"
  }
 },
 "nbformat": 4,
 "nbformat_minor": 2
}
